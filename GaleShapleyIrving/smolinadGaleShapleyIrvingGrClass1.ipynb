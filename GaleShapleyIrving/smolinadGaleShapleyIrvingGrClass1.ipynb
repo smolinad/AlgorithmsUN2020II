{
  "nbformat": 4,
  "nbformat_minor": 0,
  "metadata": {
    "colab": {
      "name": "smolinadGaleShapleyIrvingGrClass1.ipynb",
      "provenance": [],
      "collapsed_sections": [],
      "toc_visible": true
    },
    "kernelspec": {
      "name": "python3",
      "display_name": "Python 3"
    }
  },
  "cells": [
    {
      "cell_type": "markdown",
      "metadata": {
        "id": "DpkS3iKd6VyS"
      },
      "source": [
        "# Lab 9 - Gale-Shapley and Irving Algorithms\n",
        "Sebastian Molina - smolinad@unal.edu.co"
      ]
    },
    {
      "cell_type": "code",
      "metadata": {
        "id": "8HQTj2-WOAai"
      },
      "source": [
        "import pandas as pd\n",
        "import numpy as np\n",
        "from collections import Counter\n",
        "from copy import copy\n",
        "import random\n",
        "import matplotlib.pyplot as plt\n",
        "import math\n",
        "from IPython.display import display, Latex, Markdown"
      ],
      "execution_count": null,
      "outputs": []
    },
    {
      "cell_type": "code",
      "metadata": {
        "id": "x9-qenvzoag_"
      },
      "source": [
        "#Using https://towardsdatascience.com/gale-shapley-algorithm-simply-explained-caa344e643c2\n",
        "\n",
        "def gale(man_list, women_list, man_df, women_df):\n",
        "    women_available = {man:women_list for man in man_list}\n",
        "    # waiting list of men that were able to create pair on each iteration\n",
        "    waiting_list = []\n",
        "    # dict to store created pairs\n",
        "    proposals = {}\n",
        "    # variable to count number of iterations\n",
        "    count = 0\n",
        "    \n",
        "    # while not all men have pairs\n",
        "    while len(waiting_list)<len(man_list):\n",
        "        # man makes proposals\n",
        "        for man in man_list:\n",
        "            if man not in waiting_list:\n",
        "                # each man make proposal to the top women from it's list\n",
        "                women = women_available[man]\n",
        "                best_choice = man_df.loc[man][man_df.loc[man].index.isin(women)].idxmin()\n",
        "                proposals[(man, best_choice)]=(man_df.loc[man][best_choice],\n",
        "                                                    women_df.loc[man][best_choice])\n",
        "        # if women have more than one proposals \n",
        "        # she will choose the best option\n",
        "        overlays = Counter([key[1] for key in proposals.keys()])\n",
        "        # cycle to choose the best options\n",
        "        for women in overlays.keys():\n",
        "            if overlays[women]>1:\n",
        "                # pairs to drop from proposals\n",
        "                pairs_to_drop = sorted({pair: proposals[pair] for pair in proposals.keys() \n",
        "                        if women in pair}.items(), \n",
        "                    key=lambda x: x[1][1]\n",
        "                    )[1:]\n",
        "                # if man was rejected by woman\n",
        "                # there is no pint for him to make proposal \n",
        "                # second time to the same woman\n",
        "                for p_to_drop in pairs_to_drop:\n",
        "                    del proposals[p_to_drop[0]]\n",
        "                    _women = copy(women_available[p_to_drop[0][0]])\n",
        "                    _women.remove(p_to_drop[0][1])\n",
        "                    women_available[p_to_drop[0][0]] = _women\n",
        "        # man who successfully created pairs must be added to the waiting list \n",
        "        waiting_list = [man[0] for man in proposals.keys()]\n",
        "        # update counter\n",
        "        count+=1\n",
        "    \n",
        "    return count, proposals;"
      ],
      "execution_count": null,
      "outputs": []
    },
    {
      "cell_type": "markdown",
      "metadata": {
        "id": "sfVqso4G65jq"
      },
      "source": [
        "#1.\n",
        "Find the best and worst cases for the Gale-Shapley and Irving ([An Efficient Algorithm for the “Stable Roommates” Problem](http://www.dcs.gla.ac.uk/~pat/jchoco/roommates/papers/Comp_sdarticle.pdf)) Algorithms, and run in Colab these algorithms for those cases for $n=4$ and $40$.\n",
        "- Gale–Shapley algorithm simply explained – [towardsdatascience](https://towardsdatascience.com/gale-shapley-algorithm-simply-explained-caa344e643c2)\n",
        "- Stable Marriage Problem – [geeksforgeeks](https://www.geeksforgeeks.org/stable-marriage-problem/)\n",
        "- Stable matching, as a game – [towardsdatascience](https://towardsdatascience.com/stable-matching-as-a-game-a68c279d70b)"
      ]
    },
    {
      "cell_type": "markdown",
      "metadata": {
        "id": "wGvVx4PmlP91"
      },
      "source": [
        "- For $n=4$, best case scenario:"
      ]
    },
    {
      "cell_type": "code",
      "metadata": {
        "id": "fezXtE5cpekX"
      },
      "source": [
        "man_list = ['a', 'b', 'c', 'd']\n",
        "women_list = ['A', 'B', 'C', 'D']\n",
        "\n",
        "women_df = pd.DataFrame({'A': [1,2,3,4], 'B': [2,3,4,1], 'C':[3,4,1,2], 'D':[4,1,2,3]})\n",
        "women_df.index = man_list\n",
        "\n",
        "man_df = pd.DataFrame({'A': [1,2,3,4], 'B': [2,3,4,1], 'C':[3,4,1,2], 'D':[4,1,2,3]})\n",
        "man_df.index = man_list\n",
        "\n",
        "count, proposals = gale(man_list, women_list, man_df, women_df)"
      ],
      "execution_count": null,
      "outputs": []
    },
    {
      "cell_type": "code",
      "metadata": {
        "colab": {
          "base_uri": "https://localhost:8080/"
        },
        "id": "225Ki_4grRta",
        "outputId": "565a5f83-e1b2-4f4f-f265-8cdc06f99a0c"
      },
      "source": [
        "count"
      ],
      "execution_count": null,
      "outputs": [
        {
          "output_type": "execute_result",
          "data": {
            "text/plain": [
              "1"
            ]
          },
          "metadata": {
            "tags": []
          },
          "execution_count": 8
        }
      ]
    },
    {
      "cell_type": "code",
      "metadata": {
        "colab": {
          "base_uri": "https://localhost:8080/"
        },
        "id": "NVIV1ws2rTVP",
        "outputId": "ab8ba6fa-9952-4b0e-96fc-3fa2340283d2"
      },
      "source": [
        "proposals"
      ],
      "execution_count": null,
      "outputs": [
        {
          "output_type": "execute_result",
          "data": {
            "text/plain": [
              "{('a', 'A'): (1, 1),\n",
              " ('b', 'D'): (1, 1),\n",
              " ('c', 'C'): (1, 1),\n",
              " ('d', 'B'): (1, 1)}"
            ]
          },
          "metadata": {
            "tags": []
          },
          "execution_count": 9
        }
      ]
    },
    {
      "cell_type": "markdown",
      "metadata": {
        "id": "IifHvN5hnyth"
      },
      "source": [
        "- For $n=4$, worst case scenario:"
      ]
    },
    {
      "cell_type": "code",
      "metadata": {
        "id": "4-uRgAZt0YaX"
      },
      "source": [
        "man_list = ['a', 'b', 'c', 'd']\n",
        "women_list = ['A', 'B', 'C', 'D']\n",
        "\n",
        "women_df = pd.DataFrame({'A': [3,4,2,1], 'B': [3,1,4,2], 'C':[2,3,4,1], 'D':[3,2,1,4]})\n",
        "women_df.index = man_list\n",
        "\n",
        "man_df = pd.DataFrame({'A': [1,2,3,4], 'B': [2,3,4,1], 'C':[3,4,1,2], 'D':[4,2,3,4]})\n",
        "man_df.index = man_list\n",
        "\n",
        "count, proposals = gale(man_list, women_list, man_df, women_df)"
      ],
      "execution_count": null,
      "outputs": []
    },
    {
      "cell_type": "code",
      "metadata": {
        "colab": {
          "base_uri": "https://localhost:8080/"
        },
        "id": "bUVCz5X20qzm",
        "outputId": "4cdd1008-2265-46e8-fee6-34184757dcbd"
      },
      "source": [
        "count"
      ],
      "execution_count": null,
      "outputs": [
        {
          "output_type": "execute_result",
          "data": {
            "text/plain": [
              "4"
            ]
          },
          "metadata": {
            "tags": []
          },
          "execution_count": 39
        }
      ]
    },
    {
      "cell_type": "markdown",
      "metadata": {
        "id": "86Rh92M5nzWY"
      },
      "source": [
        "- For $n=40$, best case scenario:"
      ]
    },
    {
      "cell_type": "code",
      "metadata": {
        "id": "cze44jE7r0iG"
      },
      "source": [
        "from collections import deque\n",
        "\n",
        "man_list = list(range(1, 41))\n",
        "women_list = list(range(41, 81))\n",
        "\n",
        "man_dict = dict((men, []) for men in man_list)\n",
        "women_dict = dict((women, []) for women in women_list)\n",
        "\n",
        "pm = deque(list(range(1, 41)))\n",
        "pm.rotate(1)\n",
        "\n",
        "pw = deque(list(range(1, 41)))\n",
        "pw.rotate(1)\n",
        "\n",
        "for k, v in man_dict.items():\n",
        "    pm.rotate(-1)\n",
        "    p = list(pm)\n",
        "    man_dict[k] = p\n",
        "\n",
        "for l, s in women_dict.items():\n",
        "    pw.rotate(-1)\n",
        "    p1 = list(pw)\n",
        "    women_dict[l] = p1\n",
        "\n",
        "man_df = pd.DataFrame(men_dict, index=man_list)\n",
        "women_df = pd.DataFrame(women_dict, index=man_list)\n",
        "\n",
        "count, proposals = gale(man_list=man_list, women_list=women_list, man_df=man_df, women_df=women_df)"
      ],
      "execution_count": null,
      "outputs": []
    },
    {
      "cell_type": "code",
      "metadata": {
        "colab": {
          "base_uri": "https://localhost:8080/"
        },
        "id": "HVJCl-GryoaW",
        "outputId": "c9bb1d22-e723-4c13-b49a-d771c64880d1"
      },
      "source": [
        "count"
      ],
      "execution_count": null,
      "outputs": [
        {
          "output_type": "execute_result",
          "data": {
            "text/plain": [
              "1"
            ]
          },
          "metadata": {
            "tags": []
          },
          "execution_count": 59
        }
      ]
    },
    {
      "cell_type": "code",
      "metadata": {
        "colab": {
          "base_uri": "https://localhost:8080/"
        },
        "id": "S4UWdxG1ypmW",
        "outputId": "9c179902-ba10-46d9-92a1-1a9fc852f22c"
      },
      "source": [
        "proposals"
      ],
      "execution_count": null,
      "outputs": [
        {
          "output_type": "execute_result",
          "data": {
            "text/plain": [
              "{(1, 41): (1, 1),\n",
              " (2, 80): (1, 1),\n",
              " (3, 79): (1, 1),\n",
              " (4, 78): (1, 1),\n",
              " (5, 77): (1, 1),\n",
              " (6, 76): (1, 1),\n",
              " (7, 75): (1, 1),\n",
              " (8, 74): (1, 1),\n",
              " (9, 73): (1, 1),\n",
              " (10, 72): (1, 1),\n",
              " (11, 71): (1, 1),\n",
              " (12, 70): (1, 1),\n",
              " (13, 69): (1, 1),\n",
              " (14, 68): (1, 1),\n",
              " (15, 67): (1, 1),\n",
              " (16, 66): (1, 1),\n",
              " (17, 65): (1, 1),\n",
              " (18, 64): (1, 1),\n",
              " (19, 63): (1, 1),\n",
              " (20, 62): (1, 1),\n",
              " (21, 61): (1, 1),\n",
              " (22, 60): (1, 1),\n",
              " (23, 59): (1, 1),\n",
              " (24, 58): (1, 1),\n",
              " (25, 57): (1, 1),\n",
              " (26, 56): (1, 1),\n",
              " (27, 55): (1, 1),\n",
              " (28, 54): (1, 1),\n",
              " (29, 53): (1, 1),\n",
              " (30, 52): (1, 1),\n",
              " (31, 51): (1, 1),\n",
              " (32, 50): (1, 1),\n",
              " (33, 49): (1, 1),\n",
              " (34, 48): (1, 1),\n",
              " (35, 47): (1, 1),\n",
              " (36, 46): (1, 1),\n",
              " (37, 45): (1, 1),\n",
              " (38, 44): (1, 1),\n",
              " (39, 43): (1, 1),\n",
              " (40, 42): (1, 1)}"
            ]
          },
          "metadata": {
            "tags": []
          },
          "execution_count": 60
        }
      ]
    },
    {
      "cell_type": "markdown",
      "metadata": {
        "id": "AtrERJ4_nzeG"
      },
      "source": [
        "- For $n=40$, worst case scenario:"
      ]
    },
    {
      "cell_type": "markdown",
      "metadata": {
        "id": "V-ztb4dH7jca"
      },
      "source": [
        "#2.\n",
        "Run the Gale-Shapley Algorithm 100 times using random permutations as preference lists for $n=4$ and $40$. Find the minimum, maximum and average number of iterations and plot the distribution of the number of iterations."
      ]
    },
    {
      "cell_type": "markdown",
      "metadata": {
        "id": "pIKVSieX90kk"
      },
      "source": [
        "- For $n=4$:"
      ]
    },
    {
      "cell_type": "code",
      "metadata": {
        "colab": {
          "base_uri": "https://localhost:8080/",
          "height": 370
        },
        "id": "AhvysbJYYqZR",
        "outputId": "687ce3df-7c54-4af3-d224-67728bbb22a2"
      },
      "source": [
        "man_list = ['a', 'b', 'c', 'd']\n",
        "women_list = ['A', 'B', 'C', 'D']\n",
        "iterations = []\n",
        "\n",
        "for i in range(100):\n",
        "    men_dict = dict((men, []) for men in women_list)\n",
        "    women_dict = dict((women, []) for women in women_list)\n",
        "\n",
        "    for k, v in men_dict.items():\n",
        "        preference = list(range(1, 5))\n",
        "        random.shuffle(preference)\n",
        "        men_dict[k] = preference\n",
        "\n",
        "    for l,s in women_dict.items():\n",
        "        preference1 = list(range(1, 5))\n",
        "        random.shuffle(preference1)\n",
        "        women_dict[l] = preference1\n",
        "\n",
        "    man_df = pd.DataFrame(men_dict, index=man_list)\n",
        "    women_df = pd.DataFrame(women_dict, index=man_list)\n",
        "\n",
        "    c, p = gale(man_list=man_list, women_list=women_list, man_df=man_df, women_df=women_df)\n",
        "    iterations.append(c)\n",
        "\n",
        "plt.hist(iterations, bins=np.arange(0,10)-0.5, rwidth=0.5, density=True)\n",
        "plt.xlabel(\"Iterations required\")\n",
        "plt.ylabel(\"Frequency\");\n",
        "plt.title(\"Gale-Shapley Algorithm Iterations\")\n",
        "\n",
        "min_it = min(iterations)\n",
        "max_it = max(iterations)\n",
        "avg_it = np.average(iterations)\n",
        "\n",
        "display(Markdown('Minimum iterations required: ' + str(min_it)))\n",
        "display(Markdown('Maximum iterations required: ' + str(max_it)))\n",
        "display(Markdown('Average iterations required: ' + str(avg_it)))"
      ],
      "execution_count": null,
      "outputs": [
        {
          "output_type": "display_data",
          "data": {
            "text/markdown": "Minimum iterations required: 1",
            "text/plain": [
              "<IPython.core.display.Markdown object>"
            ]
          },
          "metadata": {
            "tags": []
          }
        },
        {
          "output_type": "display_data",
          "data": {
            "text/markdown": "Maximum iterations required: 7",
            "text/plain": [
              "<IPython.core.display.Markdown object>"
            ]
          },
          "metadata": {
            "tags": []
          }
        },
        {
          "output_type": "display_data",
          "data": {
            "text/markdown": "Average iterations required: 2.69",
            "text/plain": [
              "<IPython.core.display.Markdown object>"
            ]
          },
          "metadata": {
            "tags": []
          }
        },
        {
          "output_type": "display_data",
          "data": {
            "image/png": "[encoded data removed]",
            "text/plain": [
              "<Figure size 432x288 with 1 Axes>"
            ]
          },
          "metadata": {
            "tags": [],
            "needs_background": "light"
          }
        }
      ]
    },
    {
      "cell_type": "markdown",
      "metadata": {
        "id": "GTpl78yqeLcQ"
      },
      "source": [
        "- For $n=40$:"
      ]
    },
    {
      "cell_type": "code",
      "metadata": {
        "colab": {
          "base_uri": "https://localhost:8080/",
          "height": 370
        },
        "id": "HiSXeW62eNiU",
        "outputId": "874ff653-dcfb-450f-f3a1-cd642397db4a"
      },
      "source": [
        "man_list = list(range(1, 41))\n",
        "women_list = list(range(41, 81))\n",
        "iterations = []\n",
        "\n",
        "for i in range(100):\n",
        "    men_dict = dict((men, []) for men in women_list)\n",
        "    women_dict = dict((women, []) for women in women_list)\n",
        "\n",
        "    for k, v in men_dict.items():\n",
        "        preference = list(range(1, 41))\n",
        "        random.shuffle(preference)\n",
        "        men_dict[k] = preference\n",
        "\n",
        "    for l,s in women_dict.items():\n",
        "        preference1 = list(range(1, 41))\n",
        "        random.shuffle(preference1)\n",
        "        women_dict[l] = preference1\n",
        "\n",
        "    man_df = pd.DataFrame(men_dict, index=man_list)\n",
        "    women_df = pd.DataFrame(women_dict, index=man_list)\n",
        "\n",
        "    c, p = gale(man_list=man_list, women_list=women_list, man_df=man_df, women_df=women_df)\n",
        "    iterations.append(c)\n",
        "    \n",
        "\n",
        "min_it = min(iterations)\n",
        "max_it = max(iterations)\n",
        "avg_it = np.average(iterations)\n",
        "\n",
        "plt.hist(iterations, bins=np.arange(0, max_it+5)-0.5, rwidth=0.5, density=True)\n",
        "plt.xlabel(\"Iterations required\")\n",
        "plt.ylabel(\"Frequency\");\n",
        "plt.title(\"Gale-Shapley Algorithm Iterations\")\n",
        "\n",
        "display(Markdown('Minimum iterations required: ' + str(min_it)))\n",
        "display(Markdown('Maximum iterations required: ' + str(max_it)))\n",
        "display(Markdown('Average iterations required: ' + str(avg_it)))"
      ],
      "execution_count": null,
      "outputs": [
        {
          "output_type": "display_data",
          "data": {
            "text/markdown": "Minimum iterations required: 6",
            "text/plain": [
              "<IPython.core.display.Markdown object>"
            ]
          },
          "metadata": {
            "tags": []
          }
        },
        {
          "output_type": "display_data",
          "data": {
            "text/markdown": "Maximum iterations required: 110",
            "text/plain": [
              "<IPython.core.display.Markdown object>"
            ]
          },
          "metadata": {
            "tags": []
          }
        },
        {
          "output_type": "display_data",
          "data": {
            "text/markdown": "Average iterations required: 35.2",
            "text/plain": [
              "<IPython.core.display.Markdown object>"
            ]
          },
          "metadata": {
            "tags": []
          }
        },
        {
          "output_type": "display_data",
          "data": {
            "image/png": "[encoded data removed]",
            "text/plain": [
              "<Figure size 432x288 with 1 Axes>"
            ]
          },
          "metadata": {
            "tags": [],
            "needs_background": "light"
          }
        }
      ]
    }
  ]
}